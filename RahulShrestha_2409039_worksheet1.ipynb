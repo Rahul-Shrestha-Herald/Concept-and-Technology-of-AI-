{
  "nbformat": 4,
  "nbformat_minor": 0,
  "metadata": {
    "colab": {
      "provenance": []
    },
    "kernelspec": {
      "name": "python3",
      "display_name": "Python 3"
    },
    "language_info": {
      "name": "python"
    }
  },
  "cells": [
    {
      "cell_type": "markdown",
      "source": [
        "***problem1***"
      ],
      "metadata": {
        "id": "fQ0_gw5jc_lT"
      }
    },
    {
      "cell_type": "code",
      "execution_count": 4,
      "metadata": {
        "colab": {
          "base_uri": "https://localhost:8080/"
        },
        "id": "gJsV7YW__lfm",
        "outputId": "ca9d5b8a-6bd3-4a03-f270-e922502fd3d2"
      },
      "outputs": [
        {
          "output_type": "stream",
          "name": "stdout",
          "text": [
            "[[4.6910013e-310 0.0000000e+000]\n",
            " [6.5973773e-310 0.0000000e+000]]\n"
          ]
        }
      ],
      "source": [
        "#1\n",
        "import numpy as np\n",
        "empty_array=np.empty((2,2))\n",
        "print(empty_array)"
      ]
    },
    {
      "cell_type": "code",
      "source": [
        "#2\n",
        "ones_array=np.ones((4,2))\n",
        "print(all_one_array)"
      ],
      "metadata": {
        "colab": {
          "base_uri": "https://localhost:8080/"
        },
        "id": "4RyuuBmW_r6x",
        "outputId": "81fcdc3a-b6d9-4793-c92e-f190a8c12920"
      },
      "execution_count": 23,
      "outputs": [
        {
          "output_type": "stream",
          "name": "stdout",
          "text": [
            "[[1. 1.]\n",
            " [1. 1.]\n",
            " [1. 1.]\n",
            " [1. 1.]]\n"
          ]
        }
      ]
    },
    {
      "cell_type": "code",
      "source": [
        "#3\n",
        "def first_array(fill_value):\n",
        "  return np.full((3,2),fill_value)\n",
        "first_array(6)"
      ],
      "metadata": {
        "colab": {
          "base_uri": "https://localhost:8080/"
        },
        "id": "wrIAI8mK_xMM",
        "outputId": "ee0ee48e-0fae-4801-8820-09c33df4ede7"
      },
      "execution_count": 7,
      "outputs": [
        {
          "output_type": "execute_result",
          "data": {
            "text/plain": [
              "array([[6, 6],\n",
              "       [6, 6],\n",
              "       [6, 6]])"
            ]
          },
          "metadata": {},
          "execution_count": 7
        }
      ]
    },
    {
      "cell_type": "code",
      "source": [
        "#4\n",
        "def zeros_array(shape):\n",
        "  return np.zeros_like(shape)\n",
        "make_zero = np.array([[3,4,5],[4,5,6]])\n",
        "zeros_array(make_zero)"
      ],
      "metadata": {
        "colab": {
          "base_uri": "https://localhost:8080/"
        },
        "id": "253eR8GQ_21Y",
        "outputId": "14aa0e22-672d-4554-fddb-6f4a32de5e88"
      },
      "execution_count": 8,
      "outputs": [
        {
          "output_type": "execute_result",
          "data": {
            "text/plain": [
              "array([[0, 0, 0],\n",
              "       [0, 0, 0]])"
            ]
          },
          "metadata": {},
          "execution_count": 8
        }
      ]
    },
    {
      "cell_type": "code",
      "source": [
        "#5\n",
        "def ones_array(shape):\n",
        "  return np.ones_like(shape)\n",
        "make_zero = np.array([[3,4,5],[4,5,6]])\n",
        "ones_array(make_zero)"
      ],
      "metadata": {
        "colab": {
          "base_uri": "https://localhost:8080/"
        },
        "id": "ughas1jBY9Uj",
        "outputId": "77389628-dabd-4bcc-966c-34486a5349c3"
      },
      "execution_count": 9,
      "outputs": [
        {
          "output_type": "execute_result",
          "data": {
            "text/plain": [
              "array([[1, 1, 1],\n",
              "       [1, 1, 1]])"
            ]
          },
          "metadata": {},
          "execution_count": 9
        }
      ]
    },
    {
      "cell_type": "code",
      "source": [
        "#6\n",
        "new_list = [1,2,3,4]\n",
        "to_numpy = np.array(new_list)\n",
        "print(to_numpy)"
      ],
      "metadata": {
        "colab": {
          "base_uri": "https://localhost:8080/"
        },
        "id": "jMAf3WKoY9M0",
        "outputId": "749f1caa-6421-4ac7-dbb9-099e517f73af"
      },
      "execution_count": 10,
      "outputs": [
        {
          "output_type": "stream",
          "name": "stdout",
          "text": [
            "[1 2 3 4]\n"
          ]
        }
      ]
    },
    {
      "cell_type": "markdown",
      "source": [
        "***problem 2***"
      ],
      "metadata": {
        "id": "_ufFfcKjZIxE"
      }
    },
    {
      "cell_type": "code",
      "source": [
        "#1\n",
        "random_values = np.arange(10,49)\n",
        "print(random_values)"
      ],
      "metadata": {
        "colab": {
          "base_uri": "https://localhost:8080/"
        },
        "id": "An5WRHKHY9BB",
        "outputId": "be0c822a-a253-49ba-99f9-c61ebe13302d"
      },
      "execution_count": 11,
      "outputs": [
        {
          "output_type": "stream",
          "name": "stdout",
          "text": [
            "[10 11 12 13 14 15 16 17 18 19 20 21 22 23 24 25 26 27 28 29 30 31 32 33\n",
            " 34 35 36 37 38 39 40 41 42 43 44 45 46 47 48]\n"
          ]
        }
      ]
    },
    {
      "cell_type": "markdown",
      "source": [],
      "metadata": {
        "id": "Wu9ZCeKfc-hp"
      }
    },
    {
      "cell_type": "code",
      "source": [
        "#2\n",
        "three_matrix = np.arange(0,9).reshape(3,3)\n",
        "print(three_matrix)"
      ],
      "metadata": {
        "colab": {
          "base_uri": "https://localhost:8080/"
        },
        "id": "E1rtEQ0-ZICJ",
        "outputId": "9ee2a7d5-33ba-454a-d3f6-7aecc963c4dc"
      },
      "execution_count": 12,
      "outputs": [
        {
          "output_type": "stream",
          "name": "stdout",
          "text": [
            "[[0 1 2]\n",
            " [3 4 5]\n",
            " [6 7 8]]\n"
          ]
        }
      ]
    },
    {
      "cell_type": "code",
      "source": [
        "#3\n",
        "identity_matrix = np.eye(3)\n",
        "print(identity_matrix)"
      ],
      "metadata": {
        "colab": {
          "base_uri": "https://localhost:8080/"
        },
        "id": "35LKt_csY8y_",
        "outputId": "73bfe502-e25e-4585-a5fe-67830c6984e0"
      },
      "execution_count": 13,
      "outputs": [
        {
          "output_type": "stream",
          "name": "stdout",
          "text": [
            "[[1. 0. 0.]\n",
            " [0. 1. 0.]\n",
            " [0. 0. 1.]]\n"
          ]
        }
      ]
    },
    {
      "cell_type": "code",
      "source": [
        "#4\n",
        "random_array = np.random.random(30)\n",
        "random_mean = np.mean(random_array)\n",
        "print(random_array)\n",
        "print(\"The mean of Random Array is:\",random_mean)"
      ],
      "metadata": {
        "colab": {
          "base_uri": "https://localhost:8080/"
        },
        "id": "LFHZBWTjZXq_",
        "outputId": "f70386c5-cfc3-45b1-dc52-8e3f972bd706"
      },
      "execution_count": 14,
      "outputs": [
        {
          "output_type": "stream",
          "name": "stdout",
          "text": [
            "[0.40568144 0.32086135 0.74370851 0.18106362 0.80790411 0.28366948\n",
            " 0.43344784 0.18546216 0.0700987  0.22402943 0.82824638 0.29950238\n",
            " 0.78501237 0.43619431 0.68237405 0.49044983 0.65238349 0.24140491\n",
            " 0.57284692 0.03958801 0.13972505 0.15388827 0.1598911  0.7797779\n",
            " 0.88811801 0.83900765 0.03632428 0.08671362 0.28577129 0.59409628]\n",
            "The mean of Random Array is: 0.42157475802770783\n"
          ]
        }
      ]
    },
    {
      "cell_type": "markdown",
      "source": [],
      "metadata": {
        "id": "xq0T4LG3Zabm"
      }
    },
    {
      "cell_type": "code",
      "source": [
        "#5\n",
        "ten_by_ten = np.random.rand(10,10)\n",
        "print(\"The 10X10 matrix is :\", ten_by_ten)\n",
        "min_value = ten_by_ten.min()\n",
        "max_value = ten_by_ten.max()\n",
        "print(\"The minimum value is :\", min_value)\n",
        "print(\"The maximum value is :\", max_value)\n",
        "#"
      ],
      "metadata": {
        "colab": {
          "base_uri": "https://localhost:8080/"
        },
        "id": "8doBwl16ZY9m",
        "outputId": "10388b48-7c9b-4aae-87a8-2ca4c58273af"
      },
      "execution_count": 15,
      "outputs": [
        {
          "output_type": "stream",
          "name": "stdout",
          "text": [
            "The 10X10 matrix is : [[0.79044983 0.9483539  0.86759685 0.67241827 0.38469827 0.21216325\n",
            "  0.68501369 0.40337947 0.05695529 0.52037586]\n",
            " [0.40162499 0.86016883 0.32636363 0.13622822 0.49289992 0.81967289\n",
            "  0.4790474  0.65380963 0.24106878 0.02666142]\n",
            " [0.17198124 0.12160191 0.61336135 0.73673429 0.02023282 0.7824658\n",
            "  0.85848023 0.89570541 0.53293358 0.43420961]\n",
            " [0.34489303 0.52118675 0.73666362 0.25022754 0.82836215 0.80938705\n",
            "  0.4296737  0.58655155 0.70913172 0.86585246]\n",
            " [0.62000833 0.71064107 0.53568319 0.10430767 0.44437601 0.94966625\n",
            "  0.54669878 0.73818513 0.15861055 0.39484521]\n",
            " [0.50888965 0.13235365 0.63695275 0.48398226 0.97951875 0.25205503\n",
            "  0.86202914 0.28869665 0.10034033 0.93310193]\n",
            " [0.41335614 0.26640667 0.8406226  0.85144761 0.82757574 0.5495054\n",
            "  0.72295969 0.17783729 0.16724366 0.29541291]\n",
            " [0.5286672  0.33718058 0.1109888  0.03530875 0.03146345 0.72921269\n",
            "  0.73911756 0.85360108 0.35213432 0.10529251]\n",
            " [0.41578382 0.16014347 0.74966653 0.47903537 0.57840936 0.31832257\n",
            "  0.09837292 0.28812557 0.00376971 0.23315845]\n",
            " [0.84968469 0.14347475 0.88206643 0.67385173 0.8924165  0.68812508\n",
            "  0.55847531 0.86665291 0.4672795  0.29352909]]\n",
            "The minimum value is : 0.0037697111631144198\n",
            "The maximum value is : 0.9795187494896362\n"
          ]
        }
      ]
    },
    {
      "cell_type": "code",
      "source": [
        "#6\n",
        "zero_aray = np.zeros(10)\n",
        "zero_aray[4] = 1\n",
        "print(zero_aray)"
      ],
      "metadata": {
        "colab": {
          "base_uri": "https://localhost:8080/"
        },
        "id": "o5UZbCkbZeIR",
        "outputId": "91d5397c-094c-4a9b-9803-5f1b10e82bf2"
      },
      "execution_count": 17,
      "outputs": [
        {
          "output_type": "stream",
          "name": "stdout",
          "text": [
            "[0. 0. 0. 0. 1. 0. 0. 0. 0. 0.]\n"
          ]
        }
      ]
    },
    {
      "cell_type": "code",
      "source": [
        "#7\n",
        "arr = [1,2,0,0,4,4]\n",
        "reversed_array = np.flip(arr)\n",
        "print(reversed_array)"
      ],
      "metadata": {
        "colab": {
          "base_uri": "https://localhost:8080/"
        },
        "id": "8-ZxfusdZeE3",
        "outputId": "0e0a9227-b1d2-4ccb-b136-b68549016cff"
      },
      "execution_count": 16,
      "outputs": [
        {
          "output_type": "stream",
          "name": "stdout",
          "text": [
            "[4 4 0 0 2 1]\n"
          ]
        }
      ]
    },
    {
      "cell_type": "code",
      "source": [
        "#8\n",
        "rr = np.ones((6,6))\n",
        "arr[1:-1,1:-1] = 0\n",
        "print(arr)"
      ],
      "metadata": {
        "colab": {
          "base_uri": "https://localhost:8080/"
        },
        "id": "KRfk91dZZeCK",
        "outputId": "c1e21803-24bc-4239-9873-f89ab90f8f08"
      },
      "execution_count": 18,
      "outputs": [
        {
          "output_type": "stream",
          "name": "stdout",
          "text": [
            "[[1. 1. 1. 1. 1. 1.]\n",
            " [1. 0. 0. 0. 0. 1.]\n",
            " [1. 0. 0. 0. 0. 1.]\n",
            " [1. 0. 0. 0. 0. 1.]\n",
            " [1. 0. 0. 0. 0. 1.]\n",
            " [1. 1. 1. 1. 1. 1.]]\n"
          ]
        }
      ]
    },
    {
      "cell_type": "code",
      "source": [
        "#9\n",
        "checker_board = np.zeros((8,8))\n",
        "checker_board[1::2,::2] = 1\n",
        "checker_board[::2,1::2] = 1\n",
        "print(checker_board)"
      ],
      "metadata": {
        "colab": {
          "base_uri": "https://localhost:8080/"
        },
        "id": "RtfZmpDjZd_p",
        "outputId": "a2264c2a-f712-4600-d7d1-ac7e750ec7f7"
      },
      "execution_count": 19,
      "outputs": [
        {
          "output_type": "stream",
          "name": "stdout",
          "text": [
            "[[0. 1. 0. 1. 0. 1. 0. 1.]\n",
            " [1. 0. 1. 0. 1. 0. 1. 0.]\n",
            " [0. 1. 0. 1. 0. 1. 0. 1.]\n",
            " [1. 0. 1. 0. 1. 0. 1. 0.]\n",
            " [0. 1. 0. 1. 0. 1. 0. 1.]\n",
            " [1. 0. 1. 0. 1. 0. 1. 0.]\n",
            " [0. 1. 0. 1. 0. 1. 0. 1.]\n",
            " [1. 0. 1. 0. 1. 0. 1. 0.]]\n"
          ]
        }
      ]
    },
    {
      "cell_type": "markdown",
      "source": [
        "***problem 3***"
      ],
      "metadata": {
        "id": "SC7vwHKsZwoK"
      }
    },
    {
      "cell_type": "code",
      "source": [
        "from re import sub\n",
        "x = np.array([[1,2],[3,5]])\n",
        "y = np.array([[5,6],[7,8]])\n",
        "v = np.array([9,10])\n",
        "w = np.array([11,12])\n",
        "# Addition of Arrays\n",
        "add_arrays = x+y\n",
        "print(f\"The sum of the given arrays is:\\n{add_arrays}\")\n",
        "#Subtraction of Arrays\n",
        "sub_arrays = x-y\n",
        "print(f\"The difference of the given arrays is:\\n{sub_arrays}\")\n",
        "#Multiplication of Arrays\n",
        "multiarray = x*y\n",
        "print(f\"The product of the given arrays is:\\n{multiarray}\")\n",
        "#Square of arrays\n",
        "squara_array = np.square(x)\n",
        "print(f\"The square of the given arrays is:\\n{squara_array}\")\n",
        "#Dot Product of v,w\n",
        "dot_product1 = np.dot(v,w)\n",
        "print(f\"The dot product of the given arrays is:\\n{dot_product1}\")\n",
        "# Dot Product of x,v\n",
        "dot_product = np.dot(x,v)\n",
        "print(f\"The dot product of the given arrays is:\\n{dot_product}\")\n",
        "#Dot product of x,y\n",
        "dot_product_x_y = np.dot(x,y)\n",
        "print(f\"The dot product of the given arrays is:\\n{dot_product_x_y}\")\n",
        "\n",
        "#Concatenate x and y along row\n",
        "concat_row = np.concatenate((x,y),axis=0)\n",
        "print(f\"The concatenated row of the given arrays is:\\n{concat_row}\")\n",
        "\n",
        "#Concatenate v and w along column\n",
        "concat_col=np.concatenate((v,w))\n",
        "print(f\"The concatenated column of the given arrays is:\\n{concat_col}\")\n",
        "\n",
        "concat_x_v = np.concatenate((x,v))\n",
        "print(f\"The concatenated column of the given arrays is:\\n{concat_x_v}\")\n",
        "## Error"
      ],
      "metadata": {
        "colab": {
          "base_uri": "https://localhost:8080/",
          "height": 662
        },
        "id": "lChNOvM3Zva_",
        "outputId": "f58a6593-ed46-47bf-c870-b366395fba58"
      },
      "execution_count": 21,
      "outputs": [
        {
          "output_type": "stream",
          "name": "stdout",
          "text": [
            "The sum of the given arrays is:\n",
            "[[ 6  8]\n",
            " [10 13]]\n",
            "The difference of the given arrays is:\n",
            "[[-4 -4]\n",
            " [-4 -3]]\n",
            "The product of the given arrays is:\n",
            "[[ 5 12]\n",
            " [21 40]]\n",
            "The square of the given arrays is:\n",
            "[[ 1  4]\n",
            " [ 9 25]]\n",
            "The dot product of the given arrays is:\n",
            "219\n",
            "The dot product of the given arrays is:\n",
            "[29 77]\n",
            "The dot product of the given arrays is:\n",
            "[[19 22]\n",
            " [50 58]]\n",
            "The concatenated row of the given arrays is:\n",
            "[[1 2]\n",
            " [3 5]\n",
            " [5 6]\n",
            " [7 8]]\n",
            "The concatenated column of the given arrays is:\n",
            "[ 9 10 11 12]\n"
          ]
        },
        {
          "output_type": "error",
          "ename": "ValueError",
          "evalue": "all the input arrays must have same number of dimensions, but the array at index 0 has 2 dimension(s) and the array at index 1 has 1 dimension(s)",
          "traceback": [
            "\u001b[0;31m---------------------------------------------------------------------------\u001b[0m",
            "\u001b[0;31mValueError\u001b[0m                                Traceback (most recent call last)",
            "\u001b[0;32m<ipython-input-21-ad56f6a87b42>\u001b[0m in \u001b[0;36m<cell line: 36>\u001b[0;34m()\u001b[0m\n\u001b[1;32m     34\u001b[0m \u001b[0mprint\u001b[0m\u001b[0;34m(\u001b[0m\u001b[0;34mf\"The concatenated column of the given arrays is:\\n{concat_col}\"\u001b[0m\u001b[0;34m)\u001b[0m\u001b[0;34m\u001b[0m\u001b[0;34m\u001b[0m\u001b[0m\n\u001b[1;32m     35\u001b[0m \u001b[0;34m\u001b[0m\u001b[0m\n\u001b[0;32m---> 36\u001b[0;31m \u001b[0mconcat_x_v\u001b[0m \u001b[0;34m=\u001b[0m \u001b[0mnp\u001b[0m\u001b[0;34m.\u001b[0m\u001b[0mconcatenate\u001b[0m\u001b[0;34m(\u001b[0m\u001b[0;34m(\u001b[0m\u001b[0mx\u001b[0m\u001b[0;34m,\u001b[0m\u001b[0mv\u001b[0m\u001b[0;34m)\u001b[0m\u001b[0;34m)\u001b[0m\u001b[0;34m\u001b[0m\u001b[0;34m\u001b[0m\u001b[0m\n\u001b[0m\u001b[1;32m     37\u001b[0m \u001b[0mprint\u001b[0m\u001b[0;34m(\u001b[0m\u001b[0;34mf\"The concatenated column of the given arrays is:\\n{concat_x_v}\"\u001b[0m\u001b[0;34m)\u001b[0m\u001b[0;34m\u001b[0m\u001b[0;34m\u001b[0m\u001b[0m\n\u001b[1;32m     38\u001b[0m \u001b[0;31m## Error\u001b[0m\u001b[0;34m\u001b[0m\u001b[0;34m\u001b[0m\u001b[0m\n",
            "\u001b[0;31mValueError\u001b[0m: all the input arrays must have same number of dimensions, but the array at index 0 has 2 dimension(s) and the array at index 1 has 1 dimension(s)"
          ]
        }
      ]
    },
    {
      "cell_type": "markdown",
      "source": [
        "***problem 4***"
      ],
      "metadata": {
        "id": "QETI-QxJa3me"
      }
    },
    {
      "cell_type": "code",
      "source": [
        "import numpy as np\n",
        "\n",
        "# Define the matrices\n",
        "A = np.array([[3, 4], [7, 8]])\n",
        "B = np.array([[5, 3], [2, 1]])\n",
        "\n",
        "# 1. Prove A.A⁻¹ = I\n",
        "inverse_A = np.linalg.inv(A)\n",
        "AA_inv = np.dot(A, inverse_A)\n",
        "identity_matrix = np.eye(A.shape[0])  # Generate a 2x2 identity matrix\n",
        "print(f\"A:\\n{A}\")\n",
        "print(f\"Inverse of A (A⁻¹):\\n{inverse_A}\")\n",
        "print(f\"A * A⁻¹:\\n{AA_inv}\")\n",
        "print(f\"Identity matrix (I):\\n{identity_matrix}\")\n",
        "print(f\"A * A⁻¹ equals I: {np.allclose(AA_inv, identity_matrix)}\\n\")\n",
        "\n",
        "# 2. Prove AB = BA\n",
        "AB = np.dot(A, B)\n",
        "BA = np.dot(B, A)\n",
        "print(f\"A * B:\\n{AB}\")\n",
        "print(f\"B * A:\\n{BA}\")\n",
        "print(f\"AB equals BA: {np.allclose(AB, BA)}\\n\")\n",
        "\n",
        "# 3. Prove (AB)ᵀ = Bᵀ * Aᵀ\n",
        "AB_T = np.transpose(AB)\n",
        "BT_AT = np.dot(B.T, A.T)\n",
        "print(f\"(AB)ᵀ:\\n{AB_T}\")\n",
        "print(f\"Bᵀ * Aᵀ:\\n{BT_AT}\")\n",
        "print(f\"(AB)ᵀ equals Bᵀ * Aᵀ: {np.allclose(AB_T, BT_AT)}\\n\")\n",
        "\n",
        "# Define matrix A and B\n",
        "A_eq = np.array([[2, -3, 1], [1, -1, 2], [3, 1, -1]])\n",
        "B_eq = np.array([-1, -3, 9])\n",
        "\n",
        "# Solve using inverse method\n",
        "A_inv = np.linalg.inv(A_eq)\n",
        "X = np.dot(A_inv, B_eq)\n",
        "print(f\"The solution X (using inverse method) is:\\n{X}\\n\")\n",
        "\n",
        "# Solve using np.linalg.solve (preferred method for numerical stability)\n",
        "X_solve = np.linalg.solve(A_eq, B_eq)\n",
        "print(f\"The solution X (using np.linalg.solve) is:\\n{X_solve}\")\n"
      ],
      "metadata": {
        "colab": {
          "base_uri": "https://localhost:8080/"
        },
        "id": "Bx21AqvvatPH",
        "outputId": "d138716a-c4e6-455b-9eee-1b3851c43952"
      },
      "execution_count": 22,
      "outputs": [
        {
          "output_type": "stream",
          "name": "stdout",
          "text": [
            "A:\n",
            "[[3 4]\n",
            " [7 8]]\n",
            "Inverse of A (A⁻¹):\n",
            "[[-2.    1.  ]\n",
            " [ 1.75 -0.75]]\n",
            "A * A⁻¹:\n",
            "[[1.00000000e+00 0.00000000e+00]\n",
            " [1.77635684e-15 1.00000000e+00]]\n",
            "Identity matrix (I):\n",
            "[[1. 0.]\n",
            " [0. 1.]]\n",
            "A * A⁻¹ equals I: True\n",
            "\n",
            "A * B:\n",
            "[[23 13]\n",
            " [51 29]]\n",
            "B * A:\n",
            "[[36 44]\n",
            " [13 16]]\n",
            "AB equals BA: False\n",
            "\n",
            "(AB)ᵀ:\n",
            "[[23 51]\n",
            " [13 29]]\n",
            "Bᵀ * Aᵀ:\n",
            "[[23 51]\n",
            " [13 29]]\n",
            "(AB)ᵀ equals Bᵀ * Aᵀ: True\n",
            "\n",
            "The solution X (using inverse method) is:\n",
            "[ 2.  1. -2.]\n",
            "\n",
            "The solution X (using np.linalg.solve) is:\n",
            "[ 2.  1. -2.]\n"
          ]
        }
      ]
    },
    {
      "cell_type": "code",
      "source": [],
      "metadata": {
        "id": "XscufmNTa73r"
      },
      "execution_count": null,
      "outputs": []
    }
  ]
}